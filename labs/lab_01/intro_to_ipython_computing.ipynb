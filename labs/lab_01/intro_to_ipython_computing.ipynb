{
 "metadata": {
  "name": "",
  "signature": "sha256:770d6b915f41bf0caf87e786202f864dac63587f7795105b94500d4c4bcd5889"
 },
 "nbformat": 3,
 "nbformat_minor": 0,
 "worksheets": [
  {
   "cells": [
    {
     "cell_type": "markdown",
     "metadata": {},
     "source": [
      "GA Data Science - Introduction to Python and computing in the Interactive Python environment\n",
      "======="
     ]
    },
    {
     "cell_type": "markdown",
     "metadata": {},
     "source": [
      "#What is IPython?\n",
      "###Interactive Computing Environment...\n",
      "to execute a cell hit shift+enter"
     ]
    },
    {
     "cell_type": "code",
     "collapsed": false,
     "input": [
      "1+1"
     ],
     "language": "python",
     "metadata": {},
     "outputs": [
      {
       "metadata": {},
       "output_type": "pyout",
       "prompt_number": 1,
       "text": [
        "2"
       ]
      }
     ],
     "prompt_number": 1
    },
    {
     "cell_type": "code",
     "collapsed": false,
     "input": [
      "print 'hello world'"
     ],
     "language": "python",
     "metadata": {},
     "outputs": [
      {
       "output_type": "stream",
       "stream": "stdout",
       "text": [
        "hello world\n"
       ]
      }
     ],
     "prompt_number": 2
    },
    {
     "cell_type": "markdown",
     "metadata": {},
     "source": [
      "###but so much more..."
     ]
    },
    {
     "cell_type": "code",
     "collapsed": false,
     "input": [
      "from IPython.core.display import HTML\n",
      "HTML(\"<iframe src=http://www.ipython.org width=1000 height=800></iframe>\")"
     ],
     "language": "python",
     "metadata": {},
     "outputs": [
      {
       "html": [
        "<iframe src=http://www.ipython.org width=1000 height=800></iframe>"
       ],
       "metadata": {},
       "output_type": "pyout",
       "prompt_number": 3,
       "text": [
        "<IPython.core.display.HTML at 0x104448790>"
       ]
      }
     ],
     "prompt_number": 3
    },
    {
     "cell_type": "code",
     "collapsed": false,
     "input": [
      "%matplotlib inline\n",
      "import matplotlib.pyplot as plt\n",
      "import numpy as np\n",
      "from IPython.core.pylabtools import figsize\n",
      "figsize(12,5)\n",
      "# plt.style.use('fivethirtyeight') - New . Need to update\n",
      "\n",
      "x = np.linspace(0, 2*np.pi, 42)\n",
      "f1 = 5 * np.sin(x)\n",
      "f2 = 2 * np.sin(2*x)\n",
      "f3 = 1 * np.sin(3*x)\n",
      "plt.plot(x, f1)\n",
      "plt.plot(x, f2, 'ro')\n",
      "plt.plot(x, f3, 'g--')\n",
      "plt.title('Hello Plot')"
     ],
     "language": "python",
     "metadata": {},
     "outputs": [
      {
       "metadata": {},
       "output_type": "pyout",
       "prompt_number": 6,
       "text": [
        "<matplotlib.text.Text at 0x105f09910>"
       ]
      },
      {
       "metadata": {},
       "output_type": "display_data",
       "png": "[encoded data removed]",
       "text": [
        "<matplotlib.figure.Figure at 0x104e6f4d0>"
       ]
      }
     ],
     "prompt_number": 6
    },
    {
     "cell_type": "code",
     "collapsed": false,
     "input": [],
     "language": "python",
     "metadata": {},
     "outputs": [],
     "prompt_number": 6
    },
    {
     "cell_type": "markdown",
     "metadata": {},
     "source": [
      "_NOTE:_ Looks like Anaconda distribution is out-of-date with the latest matplotlib, if you get an error running the above cell try<br> \n",
      "`$ conda update matplotlib`<br>\n",
      "to get custom syle-sheets working do:<br>"
     ]
    },
    {
     "cell_type": "code",
     "collapsed": false,
     "input": [
      "from IPython.html.widgets import interact\n",
      "import numpy as np\n",
      "def plot_powers(y_power=1):\n",
      "    x = np.arange(10)\n",
      "    y_true = np.arange(10) ** 2  # Assume true model is Y = X ** 2\n",
      "    plt.scatter(x, y_true)  # Plot the true values as a scatter plot\n",
      "    # Now try out the model with various powers\n",
      "    y_model = np.arange(10) ** y_power\n",
      "    plt.plot(x, y_model, 'r-')  # Plot the model\n",
      "_ = interact(plot_powers, x_power=(1, 5), y_power=(1, 5))"
     ],
     "language": "python",
     "metadata": {},
     "outputs": [
      {
       "metadata": {},
       "output_type": "display_data",
       "png": "[encoded data removed]",
       "text": [
        "<matplotlib.figure.Figure at 0x106145d50>"
       ]
      }
     ],
     "prompt_number": 7
    },
    {
     "cell_type": "markdown",
     "metadata": {},
     "source": [
      "###In fact it's magic...\n",
      "IPython provides a suite of command tools to do useful stuff, here are a few:<br>\n",
      "`!` submits a UNIX shell command"
     ]
    },
    {
     "cell_type": "code",
     "collapsed": false,
     "input": [
      "!ls -la"
     ],
     "language": "python",
     "metadata": {},
     "outputs": [
      {
       "output_type": "stream",
       "stream": "stdout",
       "text": [
        "total 58768\r\n",
        "drwxr-xr-x  10 harshi  staff       340 Nov 19 20:27 \u001b[34m.\u001b[m\u001b[m\r\n",
        "drwxr-xr-x   5 harshi  staff       170 Nov 19 20:15 \u001b[34m..\u001b[m\u001b[m\r\n",
        "-rw-r--r--   1 harshi  staff        25 Nov 19 20:15 .gitignore\r\n",
        "drwxr-xr-x   3 harshi  staff       102 Nov 19 20:58 \u001b[34m.ipynb_checkpoints\u001b[m\u001b[m\r\n",
        "-rw-r--r--   1 harshi  staff        83 Nov 19 20:15 README.md\r\n",
        "-rw-r--r--   1 harshi  staff  29946920 Nov 19 20:15 claims.json\r\n",
        "-rw-r--r--   1 harshi  staff        11 Nov 19 20:27 hello_git.txt\r\n",
        "drwxr-xr-x   4 harshi  staff       136 Nov 19 20:15 \u001b[34mimg\u001b[m\u001b[m\r\n",
        "-rw-r--r--   1 harshi  staff     65951 Nov 19 20:15 intro_to_git.ipynb\r\n",
        "-rw-r--r--   1 harshi  staff     53874 Nov 19 21:00 intro_to_ipython_computing.ipynb\r\n"
       ]
      }
     ],
     "prompt_number": 8
    },
    {
     "cell_type": "markdown",
     "metadata": {},
     "source": [
      "`%%time` will calculate how long a cell took to execute"
     ]
    },
    {
     "cell_type": "code",
     "collapsed": false,
     "input": [
      "%%time\n",
      "a = [x for x in range(1000000)]\n",
      "del a"
     ],
     "language": "python",
     "metadata": {},
     "outputs": [
      {
       "output_type": "stream",
       "stream": "stdout",
       "text": [
        "CPU times: user 110 ms, sys: 22.7 ms, total: 133 ms\n",
        "Wall time: 133 ms\n"
       ]
      }
     ],
     "prompt_number": 9
    },
    {
     "cell_type": "code",
     "collapsed": false,
     "input": [
      "%lsmagic"
     ],
     "language": "python",
     "metadata": {},
     "outputs": [
      {
       "json": [
        "{\"cell\": {\"prun\": \"ExecutionMagics\", \"file\": \"Other\", \"!\": \"OSMagics\", \"capture\": \"ExecutionMagics\", \"timeit\": \"ExecutionMagics\", \"script\": \"ScriptMagics\", \"pypy\": \"Other\", \"system\": \"OSMagics\", \"perl\": \"Other\", \"HTML\": \"Other\", \"bash\": \"Other\", \"python\": \"Other\", \"SVG\": \"Other\", \"javascript\": \"DisplayMagics\", \"writefile\": \"OSMagics\", \"ruby\": \"Other\", \"python3\": \"Other\", \"python2\": \"Other\", \"latex\": \"DisplayMagics\", \"sx\": \"OSMagics\", \"svg\": \"DisplayMagics\", \"html\": \"DisplayMagics\", \"sh\": \"Other\", \"time\": \"ExecutionMagics\", \"debug\": \"ExecutionMagics\"}, \"line\": {\"psource\": \"NamespaceMagics\", \"logstart\": \"LoggingMagics\", \"popd\": \"OSMagics\", \"loadpy\": \"CodeMagics\", \"install_ext\": \"ExtensionMagics\", \"colors\": \"BasicMagics\", \"who_ls\": \"NamespaceMagics\", \"lf\": \"Other\", \"install_profiles\": \"DeprecatedMagics\", \"ll\": \"Other\", \"pprint\": \"BasicMagics\", \"lk\": \"Other\", \"ls\": \"Other\", \"save\": \"CodeMagics\", \"tb\": \"ExecutionMagics\", \"lx\": \"Other\", \"pylab\": \"PylabMagics\", \"killbgscripts\": \"ScriptMagics\", \"quickref\": \"BasicMagics\", \"magic\": \"BasicMagics\", \"dhist\": \"OSMagics\", \"edit\": \"KernelMagics\", \"logstop\": \"LoggingMagics\", \"gui\": \"BasicMagics\", \"alias_magic\": \"BasicMagics\", \"debug\": \"ExecutionMagics\", \"page\": \"BasicMagics\", \"logstate\": \"LoggingMagics\", \"ed\": \"Other\", \"pushd\": \"OSMagics\", \"timeit\": \"ExecutionMagics\", \"rehashx\": \"OSMagics\", \"hist\": \"Other\", \"qtconsole\": \"KernelMagics\", \"rm\": \"Other\", \"dirs\": \"OSMagics\", \"run\": \"ExecutionMagics\", \"reset_selective\": \"NamespaceMagics\", \"rep\": \"Other\", \"pinfo2\": \"NamespaceMagics\", \"matplotlib\": \"PylabMagics\", \"unload_ext\": \"ExtensionMagics\", \"doctest_mode\": \"KernelMagics\", \"logoff\": \"LoggingMagics\", \"reload_ext\": \"ExtensionMagics\", \"pdb\": \"ExecutionMagics\", \"load\": \"CodeMagics\", \"lsmagic\": \"BasicMagics\", \"autosave\": \"KernelMagics\", \"cd\": \"OSMagics\", \"pastebin\": \"CodeMagics\", \"prun\": \"ExecutionMagics\", \"cp\": \"Other\", \"autocall\": \"AutoMagics\", \"bookmark\": \"OSMagics\", \"connect_info\": \"KernelMagics\", \"mkdir\": \"Other\", \"system\": \"OSMagics\", \"whos\": \"NamespaceMagics\", \"rmdir\": \"Other\", \"automagic\": \"AutoMagics\", \"store\": \"StoreMagics\", \"more\": \"KernelMagics\", \"pdef\": \"NamespaceMagics\", \"precision\": \"BasicMagics\", \"pinfo\": \"NamespaceMagics\", \"pwd\": \"OSMagics\", \"psearch\": \"NamespaceMagics\", \"reset\": \"NamespaceMagics\", \"recall\": \"HistoryMagics\", \"xdel\": \"NamespaceMagics\", \"xmode\": \"BasicMagics\", \"cat\": \"Other\", \"mv\": \"Other\", \"rerun\": \"HistoryMagics\", \"logon\": \"LoggingMagics\", \"history\": \"HistoryMagics\", \"pycat\": \"OSMagics\", \"unalias\": \"OSMagics\", \"install_default_config\": \"DeprecatedMagics\", \"env\": \"OSMagics\", \"load_ext\": \"ExtensionMagics\", \"config\": \"ConfigMagics\", \"profile\": \"BasicMagics\", \"pfile\": \"NamespaceMagics\", \"less\": \"KernelMagics\", \"who\": \"NamespaceMagics\", \"notebook\": \"BasicMagics\", \"man\": \"KernelMagics\", \"sx\": \"OSMagics\", \"macro\": \"ExecutionMagics\", \"clear\": \"KernelMagics\", \"alias\": \"OSMagics\", \"time\": \"ExecutionMagics\", \"sc\": \"OSMagics\", \"ldir\": \"Other\", \"pdoc\": \"NamespaceMagics\"}}"
       ],
       "metadata": {},
       "output_type": "pyout",
       "prompt_number": 10,
       "text": [
        "Available line magics:\n",
        "%alias  %alias_magic  %autocall  %automagic  %autosave  %bookmark  %cat  %cd  %clear  %colors  %config  %connect_info  %cp  %debug  %dhist  %dirs  %doctest_mode  %ed  %edit  %env  %gui  %hist  %history  %install_default_config  %install_ext  %install_profiles  %killbgscripts  %ldir  %less  %lf  %lk  %ll  %load  %load_ext  %loadpy  %logoff  %logon  %logstart  %logstate  %logstop  %ls  %lsmagic  %lx  %macro  %magic  %man  %matplotlib  %mkdir  %more  %mv  %notebook  %page  %pastebin  %pdb  %pdef  %pdoc  %pfile  %pinfo  %pinfo2  %popd  %pprint  %precision  %profile  %prun  %psearch  %psource  %pushd  %pwd  %pycat  %pylab  %qtconsole  %quickref  %recall  %rehashx  %reload_ext  %rep  %rerun  %reset  %reset_selective  %rm  %rmdir  %run  %save  %sc  %store  %sx  %system  %tb  %time  %timeit  %unalias  %unload_ext  %who  %who_ls  %whos  %xdel  %xmode\n",
        "\n",
        "Available cell magics:\n",
        "%%!  %%HTML  %%SVG  %%bash  %%capture  %%debug  %%file  %%html  %%javascript  %%latex  %%perl  %%prun  %%pypy  %%python  %%python2  %%python3  %%ruby  %%script  %%sh  %%svg  %%sx  %%system  %%time  %%timeit  %%writefile\n",
        "\n",
        "Automagic is ON, % prefix IS NOT needed for line magics."
       ]
      }
     ],
     "prompt_number": 10
    },
    {
     "cell_type": "code",
     "collapsed": false,
     "input": [
      "?str.upper()"
     ],
     "language": "python",
     "metadata": {},
     "outputs": [],
     "prompt_number": 11
    },
    {
     "cell_type": "markdown",
     "metadata": {},
     "source": [
      "#Programming in Python\n",
      "What do we already know?\n",
      "* variables?\n",
      "* `for` loop?\n",
      "* arrays? lists?\n",
      "* hash table? dictionary?\n",
      "* functions? classes?\n",
      "* decorators? generators?"
     ]
    },
    {
     "cell_type": "markdown",
     "metadata": {},
     "source": [
      "##00 - Basic Python execution"
     ]
    },
    {
     "cell_type": "code",
     "collapsed": false,
     "input": [
      "a = 1\n",
      "b = 2\n",
      "a+b"
     ],
     "language": "python",
     "metadata": {},
     "outputs": [
      {
       "metadata": {},
       "output_type": "pyout",
       "prompt_number": 12,
       "text": [
        "3"
       ]
      }
     ],
     "prompt_number": 12
    },
    {
     "cell_type": "code",
     "collapsed": false,
     "input": [
      "1/2"
     ],
     "language": "python",
     "metadata": {},
     "outputs": [
      {
       "metadata": {},
       "output_type": "pyout",
       "prompt_number": 13,
       "text": [
        "0"
       ]
      }
     ],
     "prompt_number": 13
    },
    {
     "cell_type": "markdown",
     "metadata": {},
     "source": [
      "Wuuuhhh? BEWARE OF INTEGER DIVISION!"
     ]
    },
    {
     "cell_type": "code",
     "collapsed": false,
     "input": [
      "1.0/2"
     ],
     "language": "python",
     "metadata": {},
     "outputs": [
      {
       "metadata": {},
       "output_type": "pyout",
       "prompt_number": 14,
       "text": [
        "0.5"
       ]
      }
     ],
     "prompt_number": 14
    },
    {
     "cell_type": "markdown",
     "metadata": {},
     "source": [
      "That feels better"
     ]
    },
    {
     "cell_type": "code",
     "collapsed": false,
     "input": [
      "name = 'chad'\n",
      "print name"
     ],
     "language": "python",
     "metadata": {},
     "outputs": [
      {
       "output_type": "stream",
       "stream": "stdout",
       "text": [
        "chad\n"
       ]
      }
     ],
     "prompt_number": 15
    },
    {
     "cell_type": "markdown",
     "metadata": {},
     "source": [
      "Sting Concatenation with `+`"
     ]
    },
    {
     "cell_type": "code",
     "collapsed": false,
     "input": [
      "truth = name + ' is a pretty ok guy'\n",
      "print truth"
     ],
     "language": "python",
     "metadata": {},
     "outputs": [
      {
       "output_type": "stream",
       "stream": "stdout",
       "text": [
        "chad is a pretty ok guy\n"
       ]
      }
     ],
     "prompt_number": 16
    },
    {
     "cell_type": "code",
     "collapsed": false,
     "input": [
      "zeal = (truth+'! ')*10\n",
      "print zeal"
     ],
     "language": "python",
     "metadata": {},
     "outputs": [
      {
       "output_type": "stream",
       "stream": "stdout",
       "text": [
        "chad is a pretty ok guy! chad is a pretty ok guy! chad is a pretty ok guy! chad is a pretty ok guy! chad is a pretty ok guy! chad is a pretty ok guy! chad is a pretty ok guy! chad is a pretty ok guy! chad is a pretty ok guy! chad is a pretty ok guy! \n"
       ]
      }
     ],
     "prompt_number": 17
    },
    {
     "cell_type": "code",
     "collapsed": false,
     "input": [
      "emphatic_zeal = zeal.upper()\n",
      "print emphatic_zeal"
     ],
     "language": "python",
     "metadata": {},
     "outputs": [
      {
       "output_type": "stream",
       "stream": "stdout",
       "text": [
        "CHAD IS A PRETTY OK GUY! CHAD IS A PRETTY OK GUY! CHAD IS A PRETTY OK GUY! CHAD IS A PRETTY OK GUY! CHAD IS A PRETTY OK GUY! CHAD IS A PRETTY OK GUY! CHAD IS A PRETTY OK GUY! CHAD IS A PRETTY OK GUY! CHAD IS A PRETTY OK GUY! CHAD IS A PRETTY OK GUY! \n"
       ]
      }
     ],
     "prompt_number": 18
    },
    {
     "cell_type": "markdown",
     "metadata": {},
     "source": [
      "and so much more..."
     ]
    },
    {
     "cell_type": "code",
     "collapsed": false,
     "input": [
      "dir(emphatic_zeal)"
     ],
     "language": "python",
     "metadata": {},
     "outputs": [
      {
       "metadata": {},
       "output_type": "pyout",
       "prompt_number": 19,
       "text": [
        "['__add__',\n",
        " '__class__',\n",
        " '__contains__',\n",
        " '__delattr__',\n",
        " '__doc__',\n",
        " '__eq__',\n",
        " '__format__',\n",
        " '__ge__',\n",
        " '__getattribute__',\n",
        " '__getitem__',\n",
        " '__getnewargs__',\n",
        " '__getslice__',\n",
        " '__gt__',\n",
        " '__hash__',\n",
        " '__init__',\n",
        " '__le__',\n",
        " '__len__',\n",
        " '__lt__',\n",
        " '__mod__',\n",
        " '__mul__',\n",
        " '__ne__',\n",
        " '__new__',\n",
        " '__reduce__',\n",
        " '__reduce_ex__',\n",
        " '__repr__',\n",
        " '__rmod__',\n",
        " '__rmul__',\n",
        " '__setattr__',\n",
        " '__sizeof__',\n",
        " '__str__',\n",
        " '__subclasshook__',\n",
        " '_formatter_field_name_split',\n",
        " '_formatter_parser',\n",
        " 'capitalize',\n",
        " 'center',\n",
        " 'count',\n",
        " 'decode',\n",
        " 'encode',\n",
        " 'endswith',\n",
        " 'expandtabs',\n",
        " 'find',\n",
        " 'format',\n",
        " 'index',\n",
        " 'isalnum',\n",
        " 'isalpha',\n",
        " 'isdigit',\n",
        " 'islower',\n",
        " 'isspace',\n",
        " 'istitle',\n",
        " 'isupper',\n",
        " 'join',\n",
        " 'ljust',\n",
        " 'lower',\n",
        " 'lstrip',\n",
        " 'partition',\n",
        " 'replace',\n",
        " 'rfind',\n",
        " 'rindex',\n",
        " 'rjust',\n",
        " 'rpartition',\n",
        " 'rsplit',\n",
        " 'rstrip',\n",
        " 'split',\n",
        " 'splitlines',\n",
        " 'startswith',\n",
        " 'strip',\n",
        " 'swapcase',\n",
        " 'title',\n",
        " 'translate',\n",
        " 'upper',\n",
        " 'zfill']"
       ]
      }
     ],
     "prompt_number": 19
    },
    {
     "cell_type": "markdown",
     "metadata": {},
     "source": [
      "##01 - Data Structures\n",
      "*Lists*<br>\n",
      "Python Lists can contain an arbitary list of objects.  It can be ints, strings, dictionaries, objects, and even functions.\n",
      "\n",
      "*Tuple*<br>\n",
      "Tuple is unique to Python and is not present in other languages.  Tuples are like lists, but cannot be appended or deleted after initialization.  You can create new Tuples, but cannot add more elements to existing tuple. Tuple is more efficient than Lists and has a subset of API that List has.\n",
      "\n",
      "*Sets*<br>\n",
      "Dicts are like lists, but the values are unique in the list.  You have additional functions to do Set unions, intersections etc.\n",
      "\n",
      "*Dictionaries*<br>\n",
      "Dictionaries (hashmap in other languages) creates a Key-Value container.  Just like lists, Values can be of any type - ints, strings, lists, functions and even another dict.\n",
      "\n",
      "The Key of dictionary must be \"immutable\" - int, string, tuple\n",
      "\n",
      "These classes can also be used as Iterable to access the elements.  Iterable is an object that can be iterated over (in a for loop for instance).  Just think of it as a sequence.  It would be clear once we do some examples.\n",
      "\n",
      "Below are examples of some of these data structures\n",
      "###01.1 - Lists"
     ]
    },
    {
     "cell_type": "code",
     "collapsed": false,
     "input": [
      "[1,2,3,10,9,8,100,32,13,13,13]"
     ],
     "language": "python",
     "metadata": {},
     "outputs": [
      {
       "metadata": {},
       "output_type": "pyout",
       "prompt_number": 20,
       "text": [
        "[1, 2, 3, 10, 9, 8, 100, 32, 13, 13, 13]"
       ]
      }
     ],
     "prompt_number": 20
    },
    {
     "cell_type": "code",
     "collapsed": false,
     "input": [
      "a = [1,2,3,10,9,8,100,32,13,13,13]"
     ],
     "language": "python",
     "metadata": {},
     "outputs": [],
     "prompt_number": 21
    },
    {
     "cell_type": "markdown",
     "metadata": {},
     "source": [
      "####01.1.1 - Indexing"
     ]
    },
    {
     "cell_type": "code",
     "collapsed": false,
     "input": [
      "a[0]"
     ],
     "language": "python",
     "metadata": {},
     "outputs": [
      {
       "metadata": {},
       "output_type": "pyout",
       "prompt_number": 22,
       "text": [
        "1"
       ]
      }
     ],
     "prompt_number": 22
    },
    {
     "cell_type": "markdown",
     "metadata": {},
     "source": [
      "####01.1.2 - Slicing"
     ]
    },
    {
     "cell_type": "code",
     "collapsed": false,
     "input": [
      "a[1:8]"
     ],
     "language": "python",
     "metadata": {},
     "outputs": [
      {
       "metadata": {},
       "output_type": "pyout",
       "prompt_number": 23,
       "text": [
        "[2, 3, 10, 9, 8, 100, 32]"
       ]
      }
     ],
     "prompt_number": 23
    },
    {
     "cell_type": "code",
     "collapsed": false,
     "input": [
      "a[1:8:2]"
     ],
     "language": "python",
     "metadata": {},
     "outputs": [
      {
       "metadata": {},
       "output_type": "pyout",
       "prompt_number": 24,
       "text": [
        "[2, 10, 8, 32]"
       ]
      }
     ],
     "prompt_number": 24
    },
    {
     "cell_type": "code",
     "collapsed": false,
     "input": [
      "a[-1]"
     ],
     "language": "python",
     "metadata": {},
     "outputs": [
      {
       "metadata": {},
       "output_type": "pyout",
       "prompt_number": 25,
       "text": [
        "13"
       ]
      }
     ],
     "prompt_number": 25
    },
    {
     "cell_type": "markdown",
     "metadata": {},
     "source": [
      "####01.1.3 - Slice/Transform"
     ]
    },
    {
     "cell_type": "code",
     "collapsed": false,
     "input": [
      "a[::-1]"
     ],
     "language": "python",
     "metadata": {},
     "outputs": [
      {
       "metadata": {},
       "output_type": "pyout",
       "prompt_number": 26,
       "text": [
        "[13, 13, 13, 32, 100, 8, 9, 10, 3, 2, 1]"
       ]
      }
     ],
     "prompt_number": 26
    },
    {
     "cell_type": "code",
     "collapsed": false,
     "input": [
      "a.reverse()\n",
      "a"
     ],
     "language": "python",
     "metadata": {},
     "outputs": [
      {
       "metadata": {},
       "output_type": "pyout",
       "prompt_number": 27,
       "text": [
        "[13, 13, 13, 32, 100, 8, 9, 10, 3, 2, 1]"
       ]
      }
     ],
     "prompt_number": 27
    },
    {
     "cell_type": "markdown",
     "metadata": {},
     "source": [
      "What is the difference between these methods?\n",
      "reverse does it permanently"
     ]
    },
    {
     "cell_type": "code",
     "collapsed": false,
     "input": [
      "dir(a)"
     ],
     "language": "python",
     "metadata": {},
     "outputs": [
      {
       "metadata": {},
       "output_type": "pyout",
       "prompt_number": 29,
       "text": [
        "['__add__',\n",
        " '__class__',\n",
        " '__contains__',\n",
        " '__delattr__',\n",
        " '__delitem__',\n",
        " '__delslice__',\n",
        " '__doc__',\n",
        " '__eq__',\n",
        " '__format__',\n",
        " '__ge__',\n",
        " '__getattribute__',\n",
        " '__getitem__',\n",
        " '__getslice__',\n",
        " '__gt__',\n",
        " '__hash__',\n",
        " '__iadd__',\n",
        " '__imul__',\n",
        " '__init__',\n",
        " '__iter__',\n",
        " '__le__',\n",
        " '__len__',\n",
        " '__lt__',\n",
        " '__mul__',\n",
        " '__ne__',\n",
        " '__new__',\n",
        " '__reduce__',\n",
        " '__reduce_ex__',\n",
        " '__repr__',\n",
        " '__reversed__',\n",
        " '__rmul__',\n",
        " '__setattr__',\n",
        " '__setitem__',\n",
        " '__setslice__',\n",
        " '__sizeof__',\n",
        " '__str__',\n",
        " '__subclasshook__',\n",
        " 'append',\n",
        " 'count',\n",
        " 'extend',\n",
        " 'index',\n",
        " 'insert',\n",
        " 'pop',\n",
        " 'remove',\n",
        " 'reverse',\n",
        " 'sort']"
       ]
      }
     ],
     "prompt_number": 29
    },
    {
     "cell_type": "code",
     "collapsed": false,
     "input": [
      "a."
     ],
     "language": "python",
     "metadata": {},
     "outputs": []
    },
    {
     "cell_type": "markdown",
     "metadata": {},
     "source": [
      "Lists can be any collection of objects:<br>\n",
      "Remember `truth`?"
     ]
    },
    {
     "cell_type": "code",
     "collapsed": false,
     "input": [
      "truth.split()"
     ],
     "language": "python",
     "metadata": {},
     "outputs": [
      {
       "metadata": {},
       "output_type": "pyout",
       "prompt_number": 30,
       "text": [
        "['chad', 'is', 'a', 'pretty', 'ok', 'guy']"
       ]
      }
     ],
     "prompt_number": 30
    },
    {
     "cell_type": "code",
     "collapsed": false,
     "input": [
      "truth_list = truth.split()\n",
      "truth_list[0]"
     ],
     "language": "python",
     "metadata": {},
     "outputs": [
      {
       "metadata": {},
       "output_type": "pyout",
       "prompt_number": 31,
       "text": [
        "'chad'"
       ]
      }
     ],
     "prompt_number": 31
    },
    {
     "cell_type": "markdown",
     "metadata": {},
     "source": [
      "###01.2 - Dictionaries\n",
      "Dictionaries are unordered sets of key : value pairs. That is, they not only store the value, but also what the value represents. "
     ]
    },
    {
     "cell_type": "code",
     "collapsed": false,
     "input": [
      "chad = {'favorite_number':2,\n",
      "        'favorite_color':'green',\n",
      "        'favorite_foods':['apples','ramen','baby seals']}\n",
      "chad"
     ],
     "language": "python",
     "metadata": {},
     "outputs": [
      {
       "metadata": {},
       "output_type": "pyout",
       "prompt_number": 32,
       "text": [
        "{'favorite_color': 'green',\n",
        " 'favorite_foods': ['apples', 'ramen', 'baby seals'],\n",
        " 'favorite_number': 2}"
       ]
      }
     ],
     "prompt_number": 32
    },
    {
     "cell_type": "code",
     "collapsed": false,
     "input": [
      "print chad.keys()\n",
      "print chad.values()"
     ],
     "language": "python",
     "metadata": {},
     "outputs": [
      {
       "output_type": "stream",
       "stream": "stdout",
       "text": [
        "['favorite_foods', 'favorite_color', 'favorite_number']\n",
        "[['apples', 'ramen', 'baby seals'], 'green', 2]\n"
       ]
      }
     ],
     "prompt_number": 33
    },
    {
     "cell_type": "markdown",
     "metadata": {},
     "source": [
      "Update (dictionary keys must be unique)"
     ]
    },
    {
     "cell_type": "code",
     "collapsed": false,
     "input": [
      "chad['favorite_number'] = chad['favorite_number']*2\n",
      "chad['favorite_number']"
     ],
     "language": "python",
     "metadata": {},
     "outputs": [
      {
       "metadata": {},
       "output_type": "pyout",
       "prompt_number": 34,
       "text": [
        "4"
       ]
      }
     ],
     "prompt_number": 34
    },
    {
     "cell_type": "markdown",
     "metadata": {},
     "source": [
      "You can nest dictionaries in dictionaries, to show complex relationships between objects"
     ]
    },
    {
     "cell_type": "code",
     "collapsed": false,
     "input": [
      "chad['family'] = {'wife':'shannon','children':['vye','jude','maeve']}\n",
      "chad"
     ],
     "language": "python",
     "metadata": {},
     "outputs": [
      {
       "metadata": {},
       "output_type": "pyout",
       "prompt_number": 35,
       "text": [
        "{'family': {'children': ['vye', 'jude', 'maeve'], 'wife': 'shannon'},\n",
        " 'favorite_color': 'green',\n",
        " 'favorite_foods': ['apples', 'ramen', 'baby seals'],\n",
        " 'favorite_number': 4}"
       ]
      }
     ],
     "prompt_number": 35
    },
    {
     "cell_type": "code",
     "collapsed": false,
     "input": [
      "chad['family']['children'][1]"
     ],
     "language": "python",
     "metadata": {},
     "outputs": [
      {
       "metadata": {},
       "output_type": "pyout",
       "prompt_number": 36,
       "text": [
        "'jude'"
       ]
      }
     ],
     "prompt_number": 36
    },
    {
     "cell_type": "markdown",
     "metadata": {},
     "source": [
      "The better way to create a dict in Python"
     ]
    },
    {
     "cell_type": "code",
     "collapsed": false,
     "input": [
      "travel = dict()\n",
      "travel['start'] = \"SFO\"\n",
      "travel['dest'] = \"NYC\"\n",
      "travel['miles'] = 2600\n",
      "travel['options'] = [\"United\", \"JetBlue\", \"SouthWest\"]"
     ],
     "language": "python",
     "metadata": {},
     "outputs": [],
     "prompt_number": 37
    },
    {
     "cell_type": "markdown",
     "metadata": {},
     "source": [
      "###01.3 - Tuples"
     ]
    },
    {
     "cell_type": "code",
     "collapsed": false,
     "input": [
      "a = ('dog','cat','orange')"
     ],
     "language": "python",
     "metadata": {},
     "outputs": [],
     "prompt_number": 38
    },
    {
     "cell_type": "code",
     "collapsed": false,
     "input": [
      "a[1]"
     ],
     "language": "python",
     "metadata": {},
     "outputs": [
      {
       "metadata": {},
       "output_type": "pyout",
       "prompt_number": 39,
       "text": [
        "'cat'"
       ]
      }
     ],
     "prompt_number": 39
    },
    {
     "cell_type": "code",
     "collapsed": false,
     "input": [
      "a[1]='apple'"
     ],
     "language": "python",
     "metadata": {},
     "outputs": [
      {
       "ename": "TypeError",
       "evalue": "'tuple' object does not support item assignment",
       "output_type": "pyerr",
       "traceback": [
        "\u001b[0;31m---------------------------------------------------------------------------\u001b[0m\n\u001b[0;31mTypeError\u001b[0m                                 Traceback (most recent call last)",
        "\u001b[0;32m<ipython-input-40-61cd8f79f82b>\u001b[0m in \u001b[0;36m<module>\u001b[0;34m()\u001b[0m\n\u001b[0;32m----> 1\u001b[0;31m \u001b[0ma\u001b[0m\u001b[0;34m[\u001b[0m\u001b[0;36m1\u001b[0m\u001b[0;34m]\u001b[0m\u001b[0;34m=\u001b[0m\u001b[0;34m'apple'\u001b[0m\u001b[0;34m\u001b[0m\u001b[0m\n\u001b[0m",
        "\u001b[0;31mTypeError\u001b[0m: 'tuple' object does not support item assignment"
       ]
      }
     ],
     "prompt_number": 40
    },
    {
     "cell_type": "markdown",
     "metadata": {},
     "source": [
      "tuples are immutable"
     ]
    },
    {
     "cell_type": "markdown",
     "metadata": {},
     "source": [
      "##02 - Functions and Flows\n",
      "The basics of functions in Python are a definition (function name and input name[s]) and a return (output)."
     ]
    },
    {
     "cell_type": "code",
     "collapsed": false,
     "input": [
      "def put_a_bird_on_it(almost_anything):\n",
      "    return almost_anything+'??? put a bird on it!'"
     ],
     "language": "python",
     "metadata": {},
     "outputs": [],
     "prompt_number": 41
    },
    {
     "cell_type": "code",
     "collapsed": false,
     "input": [
      "put_a_bird_on_it('decorative plates')"
     ],
     "language": "python",
     "metadata": {},
     "outputs": [
      {
       "metadata": {},
       "output_type": "pyout",
       "prompt_number": 42,
       "text": [
        "'decorative plates??? put a bird on it!'"
       ]
      }
     ],
     "prompt_number": 42
    },
    {
     "cell_type": "code",
     "collapsed": false,
     "input": [
      "put_a_bird_on_it(4)"
     ],
     "language": "python",
     "metadata": {},
     "outputs": [
      {
       "ename": "TypeError",
       "evalue": "unsupported operand type(s) for +: 'int' and 'str'",
       "output_type": "pyerr",
       "traceback": [
        "\u001b[0;31m---------------------------------------------------------------------------\u001b[0m\n\u001b[0;31mTypeError\u001b[0m                                 Traceback (most recent call last)",
        "\u001b[0;32m<ipython-input-43-dea6af83a846>\u001b[0m in \u001b[0;36m<module>\u001b[0;34m()\u001b[0m\n\u001b[0;32m----> 1\u001b[0;31m \u001b[0mput_a_bird_on_it\u001b[0m\u001b[0;34m(\u001b[0m\u001b[0;36m4\u001b[0m\u001b[0;34m)\u001b[0m\u001b[0;34m\u001b[0m\u001b[0m\n\u001b[0m",
        "\u001b[0;32m<ipython-input-41-0a64a6aee322>\u001b[0m in \u001b[0;36mput_a_bird_on_it\u001b[0;34m(almost_anything)\u001b[0m\n\u001b[1;32m      1\u001b[0m \u001b[0;32mdef\u001b[0m \u001b[0mput_a_bird_on_it\u001b[0m\u001b[0;34m(\u001b[0m\u001b[0malmost_anything\u001b[0m\u001b[0;34m)\u001b[0m\u001b[0;34m:\u001b[0m\u001b[0;34m\u001b[0m\u001b[0m\n\u001b[0;32m----> 2\u001b[0;31m     \u001b[0;32mreturn\u001b[0m \u001b[0malmost_anything\u001b[0m\u001b[0;34m+\u001b[0m\u001b[0;34m'??? put a bird on it!'\u001b[0m\u001b[0;34m\u001b[0m\u001b[0m\n\u001b[0m",
        "\u001b[0;31mTypeError\u001b[0m: unsupported operand type(s) for +: 'int' and 'str'"
       ]
      }
     ],
     "prompt_number": 43
    },
    {
     "cell_type": "markdown",
     "metadata": {},
     "source": [
      "####02.1 - Iteration, how to do something to a lot of things...\n",
      "Put a bird on all these things"
     ]
    },
    {
     "cell_type": "code",
     "collapsed": false,
     "input": [
      "things = ['lamp shades','football helmets','brussel sprouts','dodge stratus']"
     ],
     "language": "python",
     "metadata": {},
     "outputs": [],
     "prompt_number": 44
    },
    {
     "cell_type": "markdown",
     "metadata": {},
     "source": [
      "The ugly way:"
     ]
    },
    {
     "cell_type": "code",
     "collapsed": false,
     "input": [
      "list_of_bird_things = []\n",
      "num_items = len(things)\n",
      "for i in range(num_items):\n",
      "    bird_thing = put_a_bird_on_it(things[i])\n",
      "    list_of_bird_things.append(bird_thing)\n",
      "list_of_bird_things"
     ],
     "language": "python",
     "metadata": {},
     "outputs": [
      {
       "metadata": {},
       "output_type": "pyout",
       "prompt_number": 45,
       "text": [
        "['lamp shades??? put a bird on it!',\n",
        " 'football helmets??? put a bird on it!',\n",
        " 'brussel sprouts??? put a bird on it!',\n",
        " 'dodge stratus??? put a bird on it!']"
       ]
      }
     ],
     "prompt_number": 45
    },
    {
     "cell_type": "markdown",
     "metadata": {},
     "source": [
      "But python knows what lists are for....iterating:"
     ]
    },
    {
     "cell_type": "code",
     "collapsed": false,
     "input": [
      "list_of_bird_things = []\n",
      "for item in things:\n",
      "    list_of_bird_things.append(put_a_bird_on_it(item))\n",
      "list_of_bird_things"
     ],
     "language": "python",
     "metadata": {},
     "outputs": [
      {
       "metadata": {},
       "output_type": "pyout",
       "prompt_number": 46,
       "text": [
        "['lamp shades??? put a bird on it!',\n",
        " 'football helmets??? put a bird on it!',\n",
        " 'brussel sprouts??? put a bird on it!',\n",
        " 'dodge stratus??? put a bird on it!']"
       ]
      }
     ],
     "prompt_number": 46
    },
    {
     "cell_type": "markdown",
     "metadata": {},
     "source": [
      "Pythonic Tangent - the above pattern of creating a list by iterating over another list is so common that Python has elevated the pattern to syntax called a List Comprehension. So we can express the same statement above as:"
     ]
    },
    {
     "cell_type": "code",
     "collapsed": false,
     "input": [
      "list_of_bird_things = [put_a_bird_on_it(item) for item in things]\n",
      "list_of_bird_things"
     ],
     "language": "python",
     "metadata": {},
     "outputs": [
      {
       "metadata": {},
       "output_type": "pyout",
       "prompt_number": 47,
       "text": [
        "['lamp shades??? put a bird on it!',\n",
        " 'football helmets??? put a bird on it!',\n",
        " 'brussel sprouts??? put a bird on it!',\n",
        " 'dodge stratus??? put a bird on it!']"
       ]
      }
     ],
     "prompt_number": 47
    },
    {
     "cell_type": "markdown",
     "metadata": {},
     "source": [
      "Functional Tangent - feel free to ignore this :)"
     ]
    },
    {
     "cell_type": "code",
     "collapsed": false,
     "input": [
      "map(put_a_bird_on_it,things)"
     ],
     "language": "python",
     "metadata": {},
     "outputs": [
      {
       "metadata": {},
       "output_type": "pyout",
       "prompt_number": 48,
       "text": [
        "['lamp shades??? put a bird on it!',\n",
        " 'football helmets??? put a bird on it!',\n",
        " 'brussel sprouts??? put a bird on it!',\n",
        " 'dodge stratus??? put a bird on it!']"
       ]
      }
     ],
     "prompt_number": 48
    },
    {
     "cell_type": "markdown",
     "metadata": {},
     "source": [
      "####02.2 - Control Flow"
     ]
    },
    {
     "cell_type": "code",
     "collapsed": false,
     "input": [
      "if True:\n",
      "    print 'hello'"
     ],
     "language": "python",
     "metadata": {},
     "outputs": [
      {
       "output_type": "stream",
       "stream": "stdout",
       "text": [
        "hello\n"
       ]
      }
     ],
     "prompt_number": 49
    },
    {
     "cell_type": "code",
     "collapsed": false,
     "input": [
      "if 'abc'=='Abc':\n",
      "    print 'hello'\n",
      "else: \n",
      "    print 'goodbye'"
     ],
     "language": "python",
     "metadata": {},
     "outputs": []
    },
    {
     "cell_type": "code",
     "collapsed": false,
     "input": [
      "lst = [23,32,2,3]\n",
      "for item in lst:\n",
      "    if item%2==0: #modulus operator\n",
      "        print 'even'\n",
      "    elif item%2!=0:\n",
      "        print 'odd'"
     ],
     "language": "python",
     "metadata": {},
     "outputs": []
    },
    {
     "cell_type": "markdown",
     "metadata": {},
     "source": [
      "##LAB EXERCISE 1: Functions, Data Structures, and flow controls\n",
      "####Given some data:"
     ]
    },
    {
     "cell_type": "code",
     "collapsed": false,
     "input": [
      "data = [ 5,  9,  6,  1, 10,  7,  5,  0,  2,  4,  4,  6, 10,  8, 14,  0, 11,\n",
      "       12,  0,  7, 14,  1,  3,  7,  8, 14,  9,  2,  8, 14, 11,  6,  6,  6,\n",
      "        0,  3, 10,  2, 14,  6,  7,  7,  3, 13,  0,  4, 12,  4, 10,  8,  8,\n",
      "        6,  8,  8,  7,  2, 14, 13,  0,  7, 10,  2,  4, 12,  6, 12,  1,  3,\n",
      "        2,  0,  1,  8,  8,  4,  1, 10,  2, 13,  3,  4,  8,  7,  6, 10, 11,\n",
      "        6, 10,  8,  5,  9,  7,  7,  8, 13,  3, 14,  7,  9, 11,  8]"
     ],
     "language": "python",
     "metadata": {},
     "outputs": []
    },
    {
     "cell_type": "markdown",
     "metadata": {},
     "source": [
      "####Write a function that will take a list of integers and return a dictionary where the keys are the unique integers in the list and values are the number of times they occur in the list.\n",
      "e.g. `[ 1 , 2 , 1 , 1 , 2 , 12 ] -> { 1:3 , 2:2 , 12:1 }`"
     ]
    },
    {
     "cell_type": "code",
     "collapsed": false,
     "input": [],
     "language": "python",
     "metadata": {},
     "outputs": []
    },
    {
     "cell_type": "markdown",
     "metadata": {},
     "source": [
      "####If you're done, try exploring some of the built-in list functions"
     ]
    },
    {
     "cell_type": "code",
     "collapsed": false,
     "input": [
      "dir(list)"
     ],
     "language": "python",
     "metadata": {},
     "outputs": []
    },
    {
     "cell_type": "code",
     "collapsed": false,
     "input": [],
     "language": "python",
     "metadata": {},
     "outputs": []
    },
    {
     "cell_type": "markdown",
     "metadata": {},
     "source": [
      "##03 - File I/O"
     ]
    },
    {
     "cell_type": "markdown",
     "metadata": {},
     "source": [
      "Sometimes we want to save some data for later use."
     ]
    },
    {
     "cell_type": "markdown",
     "metadata": {},
     "source": [
      "####03.1 - Regular file reading and writing"
     ]
    },
    {
     "cell_type": "code",
     "collapsed": false,
     "input": [
      "line = 'Call me Ishmael.\\n'\n",
      "print line"
     ],
     "language": "python",
     "metadata": {},
     "outputs": []
    },
    {
     "cell_type": "markdown",
     "metadata": {},
     "source": [
      "We can access our machines file storage system with `open` function."
     ]
    },
    {
     "cell_type": "code",
     "collapsed": false,
     "input": [
      "?open"
     ],
     "language": "python",
     "metadata": {},
     "outputs": []
    },
    {
     "cell_type": "markdown",
     "metadata": {},
     "source": [
      "Here we create a file and write our line to that file called `moby_dick.txt`"
     ]
    },
    {
     "cell_type": "code",
     "collapsed": false,
     "input": [
      "file_writer = open('moby_dick.txt','w')\n",
      "file_writer.write(line)\n",
      "file_writer.close()"
     ],
     "language": "python",
     "metadata": {},
     "outputs": []
    },
    {
     "cell_type": "markdown",
     "metadata": {},
     "source": [
      "Using shell magic we can read the file"
     ]
    },
    {
     "cell_type": "code",
     "collapsed": false,
     "input": [
      "!cat moby_dick.txt"
     ],
     "language": "python",
     "metadata": {},
     "outputs": []
    },
    {
     "cell_type": "markdown",
     "metadata": {},
     "source": [
      "If we want to read the contents of the file into memory, again we use the `open`.<br>\n",
      "*Don't forget to `close()` your file pointers*"
     ]
    },
    {
     "cell_type": "code",
     "collapsed": false,
     "input": [
      "file_reader = open('moby_dick.txt')\n",
      "md_txt = file_reader.read()\n",
      "file_reader.close()\n",
      "print md_txt"
     ],
     "language": "python",
     "metadata": {},
     "outputs": []
    },
    {
     "cell_type": "markdown",
     "metadata": {},
     "source": [
      "####03.2 - JSON, a real-world data format"
     ]
    },
    {
     "cell_type": "markdown",
     "metadata": {},
     "source": [
      "Remember our dictionary `chad`?<br>\n",
      "Python dictionaries comply with a data interchange format called <a href=http://tools.ietf.org/html/rfc4627.html>`JSON`</a>, which has become something of a standard in data storage/transfer...So, you're going to see a lot of it."
     ]
    },
    {
     "cell_type": "code",
     "collapsed": false,
     "input": [
      "chad['name'] = 'chad'"
     ],
     "language": "python",
     "metadata": {},
     "outputs": []
    },
    {
     "cell_type": "markdown",
     "metadata": {},
     "source": [
      "Now that we have a complete record, we want to make a list of records."
     ]
    },
    {
     "cell_type": "code",
     "collapsed": false,
     "input": [
      "people = []\n",
      "people.append(chad)"
     ],
     "language": "python",
     "metadata": {},
     "outputs": []
    },
    {
     "cell_type": "code",
     "collapsed": false,
     "input": [
      "tom_brady = {'name':'tom',\n",
      "             'family': {'children': ['john', 'benjamin', 'vivian'], 'wife': 'gisele'},\n",
      "             'favorite_color': 'blue',\n",
      "             'favorite_foods': ['tofu', 'kale', 'tree bark'],\n",
      "             'favorite_number': 12}\n",
      "people.append(tom_brady)\n",
      "people"
     ],
     "language": "python",
     "metadata": {},
     "outputs": []
    },
    {
     "cell_type": "markdown",
     "metadata": {},
     "source": [
      "At this point we could write our data to file using the same pattern as `moby_dick`, but we want to use the data as a dictionary. We would have to read the file, then parse the file to get retrieve this structure. (YUCK)<br> \n",
      "Luckily, Python provides some special tools for encoding and decoding `JSON` from/to dictionaries. "
     ]
    },
    {
     "cell_type": "code",
     "collapsed": false,
     "input": [
      "import json\n",
      "json.dump(people,open('people.json','w'))\n",
      "!cat people.json"
     ],
     "language": "python",
     "metadata": {},
     "outputs": []
    },
    {
     "cell_type": "code",
     "collapsed": false,
     "input": [
      "another_people = json.load(open('people.json'))\n",
      "another_people"
     ],
     "language": "python",
     "metadata": {},
     "outputs": []
    },
    {
     "cell_type": "code",
     "collapsed": false,
     "input": [
      "favorite_numbers = []\n",
      "for record in another_people:\n",
      "    favorite_numbers.append(record['favorite_number'])\n",
      "print favorite_numbers"
     ],
     "language": "python",
     "metadata": {},
     "outputs": []
    },
    {
     "cell_type": "markdown",
     "metadata": {},
     "source": [
      "##LAB EXERCISE 2: File I/O\n",
      "####`claims.json` is a `JSON` file that contains records of pharmaceutical claims processed by an insurance company.\n",
      "make sure you have `claims.json` in your current working directory"
     ]
    },
    {
     "cell_type": "code",
     "collapsed": false,
     "input": [
      "!ls"
     ],
     "language": "python",
     "metadata": {},
     "outputs": []
    },
    {
     "cell_type": "markdown",
     "metadata": {},
     "source": [
      "####Use the `json` module to load these records into a variable"
     ]
    },
    {
     "cell_type": "code",
     "collapsed": false,
     "input": [],
     "language": "python",
     "metadata": {},
     "outputs": []
    },
    {
     "cell_type": "markdown",
     "metadata": {},
     "source": [
      "####Now, use indexing and slicing to explore the data"
     ]
    },
    {
     "cell_type": "code",
     "collapsed": false,
     "input": [],
     "language": "python",
     "metadata": {},
     "outputs": []
    },
    {
     "cell_type": "code",
     "collapsed": false,
     "input": [],
     "language": "python",
     "metadata": {},
     "outputs": []
    },
    {
     "cell_type": "code",
     "collapsed": false,
     "input": [],
     "language": "python",
     "metadata": {},
     "outputs": []
    },
    {
     "cell_type": "markdown",
     "metadata": {},
     "source": [
      "####Analysis: What is the distribution of birthyears? "
     ]
    },
    {
     "cell_type": "code",
     "collapsed": false,
     "input": [],
     "language": "python",
     "metadata": {},
     "outputs": []
    },
    {
     "cell_type": "markdown",
     "metadata": {},
     "source": [
      "####Analysis: I want to identify drugs that have a generic form but where doctors prescribe the non-generic. Drugs are uniquely identified by the `ndc` code, if it is the generic form the `generic` field will have a value of `'Y'`"
     ]
    },
    {
     "cell_type": "code",
     "collapsed": false,
     "input": [],
     "language": "python",
     "metadata": {},
     "outputs": []
    },
    {
     "cell_type": "code",
     "collapsed": false,
     "input": [],
     "language": "python",
     "metadata": {},
     "outputs": []
    },
    {
     "cell_type": "code",
     "collapsed": false,
     "input": [],
     "language": "python",
     "metadata": {},
     "outputs": []
    },
    {
     "cell_type": "code",
     "collapsed": false,
     "input": [],
     "language": "python",
     "metadata": {},
     "outputs": []
    }
   ],
   "metadata": {}
  }
 ]
}