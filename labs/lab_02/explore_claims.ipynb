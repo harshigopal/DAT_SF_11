{
 "metadata": {
  "name": "",
  "signature": "sha256:ca771ee3dd82ebfb0aa0ce461ecc4a06ca5e6449ffe7991b3f44f1e6509d717f"
 },
 "nbformat": 3,
 "nbformat_minor": 0,
 "worksheets": [
  {
   "cells": [
    {
     "cell_type": "code",
     "collapsed": false,
     "input": [
      "# For compatibility with Python 3\n",
      "from __future__ import print_function, division"
     ],
     "language": "python",
     "metadata": {},
     "outputs": [],
     "prompt_number": 1
    },
    {
     "cell_type": "code",
     "collapsed": false,
     "input": [
      "# Standard imports for data analysis packages in Python\n",
      "import pandas as pd\n",
      "import numpy as np\n",
      "import matplotlib.pyplot as plt\n",
      "\n",
      "# This enables inline Plots\n",
      "%matplotlib inline"
     ],
     "language": "python",
     "metadata": {},
     "outputs": [],
     "prompt_number": 2
    },
    {
     "cell_type": "code",
     "collapsed": false,
     "input": [
      "!pwd"
     ],
     "language": "python",
     "metadata": {},
     "outputs": [
      {
       "output_type": "stream",
       "stream": "stdout",
       "text": [
        "/Users/harshi/Documents/GA-SF/DAT_SF_11/labs/lab_02\r\n"
       ]
      }
     ],
     "prompt_number": 3
    },
    {
     "cell_type": "code",
     "collapsed": false,
     "input": [
      "# Load Claims JSON File in data folder under labs\n",
      "\n",
      "claims = pd.read_json('../data/claims.json')"
     ],
     "language": "python",
     "metadata": {},
     "outputs": [],
     "prompt_number": 4
    },
    {
     "cell_type": "markdown",
     "metadata": {},
     "source": [
      "### Examine the types, rows and contents"
     ]
    },
    {
     "cell_type": "code",
     "collapsed": false,
     "input": [
      "# Step 1: Look at the Columns, data types, memory usage, null values\n",
      "claims.info()"
     ],
     "language": "python",
     "metadata": {},
     "outputs": [
      {
       "output_type": "stream",
       "stream": "stdout",
       "text": [
        "<class 'pandas.core.frame.DataFrame'>\n",
        "Int64Index: 100000 entries, 0 to 99999\n",
        "Data columns (total 12 columns):\n",
        "birthYear                100000 non-null int64\n",
        "daysSupplyCount          100000 non-null int64\n",
        "dispenseQuarter          100000 non-null object\n",
        "gender                   100000 non-null object\n",
        "generic                  100000 non-null object\n",
        "ndc                      100000 non-null object\n",
        "ndc11Digit               100000 non-null int64\n",
        "newRefillCount           100000 non-null int64\n",
        "prescSpecialty           100000 non-null object\n",
        "threeDigitPhmZip         100000 non-null object\n",
        "threeDigitSubsZip        100000 non-null object\n",
        "untsDispensedQuantity    100000 non-null float64\n",
        "dtypes: float64(1), int64(4), object(7)"
       ]
      }
     ],
     "prompt_number": 5
    },
    {
     "cell_type": "code",
     "collapsed": false,
     "input": [
      "# Step 2: Look at first 5 rows, to get a sense of how the data was imported\n",
      "claims.head(5)"
     ],
     "language": "python",
     "metadata": {},
     "outputs": [
      {
       "html": [
        "<div style=\"max-height:1000px;max-width:1500px;overflow:auto;\">\n",
        "<table border=\"1\" class=\"dataframe\">\n",
        "  <thead>\n",
        "    <tr style=\"text-align: right;\">\n",
        "      <th></th>\n",
        "      <th>birthYear</th>\n",
        "      <th>daysSupplyCount</th>\n",
        "      <th>dispenseQuarter</th>\n",
        "      <th>gender</th>\n",
        "      <th>generic</th>\n",
        "      <th>ndc</th>\n",
        "      <th>ndc11Digit</th>\n",
        "      <th>newRefillCount</th>\n",
        "      <th>prescSpecialty</th>\n",
        "      <th>threeDigitPhmZip</th>\n",
        "      <th>threeDigitSubsZip</th>\n",
        "      <th>untsDispensedQuantity</th>\n",
        "    </tr>\n",
        "  </thead>\n",
        "  <tbody>\n",
        "    <tr>\n",
        "      <th>0</th>\n",
        "      <td> 1951</td>\n",
        "      <td> 30</td>\n",
        "      <td> 2011Q3</td>\n",
        "      <td> F</td>\n",
        "      <td> Y</td>\n",
        "      <td> 0378-3125-01</td>\n",
        "      <td>   378312501</td>\n",
        "      <td> 2</td>\n",
        "      <td> 10201</td>\n",
        "      <td>    </td>\n",
        "      <td> 852</td>\n",
        "      <td> 60</td>\n",
        "    </tr>\n",
        "    <tr>\n",
        "      <th>1</th>\n",
        "      <td> 1950</td>\n",
        "      <td> 30</td>\n",
        "      <td> 2011Q3</td>\n",
        "      <td> F</td>\n",
        "      <td> N</td>\n",
        "      <td> 0002-4771-90</td>\n",
        "      <td>     2477190</td>\n",
        "      <td> 0</td>\n",
        "      <td> 10201</td>\n",
        "      <td>    </td>\n",
        "      <td> 199</td>\n",
        "      <td> 30</td>\n",
        "    </tr>\n",
        "    <tr>\n",
        "      <th>2</th>\n",
        "      <td> 1951</td>\n",
        "      <td> 30</td>\n",
        "      <td> 2011Q3</td>\n",
        "      <td> F</td>\n",
        "      <td> N</td>\n",
        "      <td> 0002-4165-30</td>\n",
        "      <td>     2416530</td>\n",
        "      <td> 0</td>\n",
        "      <td> 10301</td>\n",
        "      <td> 117</td>\n",
        "      <td> 117</td>\n",
        "      <td> 30</td>\n",
        "    </tr>\n",
        "    <tr>\n",
        "      <th>3</th>\n",
        "      <td> 1950</td>\n",
        "      <td> 30</td>\n",
        "      <td> 2011Q3</td>\n",
        "      <td> F</td>\n",
        "      <td> Y</td>\n",
        "      <td> 0143-1277-01</td>\n",
        "      <td>   143127701</td>\n",
        "      <td> 0</td>\n",
        "      <td> 11001</td>\n",
        "      <td> 109</td>\n",
        "      <td> 109</td>\n",
        "      <td> 30</td>\n",
        "    </tr>\n",
        "    <tr>\n",
        "      <th>4</th>\n",
        "      <td> 1951</td>\n",
        "      <td> 28</td>\n",
        "      <td> 2011Q3</td>\n",
        "      <td> F</td>\n",
        "      <td> Y</td>\n",
        "      <td> 50111-990-01</td>\n",
        "      <td> 50111099001</td>\n",
        "      <td> 0</td>\n",
        "      <td> 10301</td>\n",
        "      <td> 750</td>\n",
        "      <td> 750</td>\n",
        "      <td>  4</td>\n",
        "    </tr>\n",
        "  </tbody>\n",
        "</table>\n",
        "<p>5 rows \u00d7 12 columns</p>\n",
        "</div>"
       ],
       "metadata": {},
       "output_type": "pyout",
       "prompt_number": 6,
       "text": [
        "   birthYear  daysSupplyCount dispenseQuarter gender generic           ndc  \\\n",
        "0       1951               30          2011Q3      F       Y  0378-3125-01   \n",
        "1       1950               30          2011Q3      F       N  0002-4771-90   \n",
        "2       1951               30          2011Q3      F       N  0002-4165-30   \n",
        "3       1950               30          2011Q3      F       Y  0143-1277-01   \n",
        "4       1951               28          2011Q3      F       Y  50111-990-01   \n",
        "\n",
        "    ndc11Digit  newRefillCount prescSpecialty threeDigitPhmZip  \\\n",
        "0    378312501               2          10201                    \n",
        "1      2477190               0          10201                    \n",
        "2      2416530               0          10301              117   \n",
        "3    143127701               0          11001              109   \n",
        "4  50111099001               0          10301              750   \n",
        "\n",
        "  threeDigitSubsZip  untsDispensedQuantity  \n",
        "0               852                     60  \n",
        "1               199                     30  \n",
        "2               117                     30  \n",
        "3               109                     30  \n",
        "4               750                      4  \n",
        "\n",
        "[5 rows x 12 columns]"
       ]
      }
     ],
     "prompt_number": 6
    },
    {
     "cell_type": "code",
     "collapsed": false,
     "input": [
      "# Step 3: Describe the dataset - This gives you a summary of numerical columns\n",
      "\n",
      "claims.describe()"
     ],
     "language": "python",
     "metadata": {},
     "outputs": [
      {
       "html": [
        "<div style=\"max-height:1000px;max-width:1500px;overflow:auto;\">\n",
        "<table border=\"1\" class=\"dataframe\">\n",
        "  <thead>\n",
        "    <tr style=\"text-align: right;\">\n",
        "      <th></th>\n",
        "      <th>birthYear</th>\n",
        "      <th>daysSupplyCount</th>\n",
        "      <th>ndc11Digit</th>\n",
        "      <th>newRefillCount</th>\n",
        "      <th>untsDispensedQuantity</th>\n",
        "    </tr>\n",
        "  </thead>\n",
        "  <tbody>\n",
        "    <tr>\n",
        "      <th>count</th>\n",
        "      <td> 100000.000000</td>\n",
        "      <td> 100000.000000</td>\n",
        "      <td> 1.000000e+05</td>\n",
        "      <td> 100000.000000</td>\n",
        "      <td> 100000.000000</td>\n",
        "    </tr>\n",
        "    <tr>\n",
        "      <th>mean</th>\n",
        "      <td>   1950.486800</td>\n",
        "      <td>     29.902400</td>\n",
        "      <td> 2.340626e+10</td>\n",
        "      <td>      1.719600</td>\n",
        "      <td>     50.287512</td>\n",
        "    </tr>\n",
        "    <tr>\n",
        "      <th>std</th>\n",
        "      <td>      0.499828</td>\n",
        "      <td>     16.921812</td>\n",
        "      <td> 2.910646e+10</td>\n",
        "      <td>      2.326764</td>\n",
        "      <td>    124.333731</td>\n",
        "    </tr>\n",
        "    <tr>\n",
        "      <th>min</th>\n",
        "      <td>   1950.000000</td>\n",
        "      <td>      1.000000</td>\n",
        "      <td> 2.324030e+06</td>\n",
        "      <td>      0.000000</td>\n",
        "      <td>      0.240000</td>\n",
        "    </tr>\n",
        "    <tr>\n",
        "      <th>25%</th>\n",
        "      <td>   1950.000000</td>\n",
        "      <td>     30.000000</td>\n",
        "      <td> 1.730696e+08</td>\n",
        "      <td>      0.000000</td>\n",
        "      <td>     30.000000</td>\n",
        "    </tr>\n",
        "    <tr>\n",
        "      <th>50%</th>\n",
        "      <td>   1950.000000</td>\n",
        "      <td>     30.000000</td>\n",
        "      <td> 5.913332e+08</td>\n",
        "      <td>      1.000000</td>\n",
        "      <td>     30.000000</td>\n",
        "    </tr>\n",
        "    <tr>\n",
        "      <th>75%</th>\n",
        "      <td>   1951.000000</td>\n",
        "      <td>     30.000000</td>\n",
        "      <td> 5.511104e+10</td>\n",
        "      <td>      3.000000</td>\n",
        "      <td>     60.000000</td>\n",
        "    </tr>\n",
        "    <tr>\n",
        "      <th>max</th>\n",
        "      <td>   1951.000000</td>\n",
        "      <td>     90.000000</td>\n",
        "      <td> 9.920705e+10</td>\n",
        "      <td>     12.000000</td>\n",
        "      <td>   4000.000000</td>\n",
        "    </tr>\n",
        "  </tbody>\n",
        "</table>\n",
        "<p>8 rows \u00d7 5 columns</p>\n",
        "</div>"
       ],
       "metadata": {},
       "output_type": "pyout",
       "prompt_number": 7,
       "text": [
        "           birthYear  daysSupplyCount    ndc11Digit  newRefillCount  \\\n",
        "count  100000.000000    100000.000000  1.000000e+05   100000.000000   \n",
        "mean     1950.486800        29.902400  2.340626e+10        1.719600   \n",
        "std         0.499828        16.921812  2.910646e+10        2.326764   \n",
        "min      1950.000000         1.000000  2.324030e+06        0.000000   \n",
        "25%      1950.000000        30.000000  1.730696e+08        0.000000   \n",
        "50%      1950.000000        30.000000  5.913332e+08        1.000000   \n",
        "75%      1951.000000        30.000000  5.511104e+10        3.000000   \n",
        "max      1951.000000        90.000000  9.920705e+10       12.000000   \n",
        "\n",
        "       untsDispensedQuantity  \n",
        "count          100000.000000  \n",
        "mean               50.287512  \n",
        "std               124.333731  \n",
        "min                 0.240000  \n",
        "25%                30.000000  \n",
        "50%                30.000000  \n",
        "75%                60.000000  \n",
        "max              4000.000000  \n",
        "\n",
        "[8 rows x 5 columns]"
       ]
      }
     ],
     "prompt_number": 7
    },
    {
     "cell_type": "code",
     "collapsed": false,
     "input": [
      "# How many rows are in the dataset\n",
      "len(claims)"
     ],
     "language": "python",
     "metadata": {},
     "outputs": [
      {
       "metadata": {},
       "output_type": "pyout",
       "prompt_number": 8,
       "text": [
        "100000"
       ]
      }
     ],
     "prompt_number": 8
    },
    {
     "cell_type": "markdown",
     "metadata": {},
     "source": [
      "### What is the distribution of birth years\n",
      "\n",
      "Note: Column Names are case sensitive"
     ]
    },
    {
     "cell_type": "code",
     "collapsed": false,
     "input": [
      "# Method 1: Access Column Names like an attribute of the dataframe\n",
      "\n",
      "claims.birthYear.value_counts()"
     ],
     "language": "python",
     "metadata": {},
     "outputs": [
      {
       "metadata": {},
       "output_type": "pyout",
       "prompt_number": 9,
       "text": [
        "1950    51320\n",
        "1951    48680\n",
        "dtype: int64"
       ]
      }
     ],
     "prompt_number": 9
    },
    {
     "cell_type": "code",
     "collapsed": false,
     "input": [
      "# Method 2:\n",
      "claims['birthYear'].value_counts()"
     ],
     "language": "python",
     "metadata": {},
     "outputs": [
      {
       "metadata": {},
       "output_type": "pyout",
       "prompt_number": 10,
       "text": [
        "1950    51320\n",
        "1951    48680\n",
        "dtype: int64"
       ]
      }
     ],
     "prompt_number": 10
    },
    {
     "cell_type": "markdown",
     "metadata": {},
     "source": [
      "### Distribution of days Supply Count"
     ]
    },
    {
     "cell_type": "code",
     "collapsed": false,
     "input": [
      "claims.daysSupplyCount.hist()"
     ],
     "language": "python",
     "metadata": {},
     "outputs": [
      {
       "metadata": {},
       "output_type": "pyout",
       "prompt_number": 11,
       "text": [
        "<matplotlib.axes.AxesSubplot at 0x120c47050>"
       ]
      },
      {
       "metadata": {},
       "output_type": "display_data",
       "png": "[encoded data removed]",
       "text": [
        "<matplotlib.figure.Figure at 0x11b1b4a90>"
       ]
      }
     ],
     "prompt_number": 11
    },
    {
     "cell_type": "code",
     "collapsed": false,
     "input": [
      "ax = claims.daysSupplyCount.hist(bins=50)\n",
      "ax.set_title('Days Supply Count')\n",
      "ax.set_xlabel('days')\n",
      "ax.set_ylabel('# of claims')"
     ],
     "language": "python",
     "metadata": {},
     "outputs": [
      {
       "metadata": {},
       "output_type": "pyout",
       "prompt_number": 12,
       "text": [
        "<matplotlib.text.Text at 0x11a0d9590>"
       ]
      },
      {
       "metadata": {},
       "output_type": "display_data",
       "png": "[encoded data removed]",
       "text": [
        "<matplotlib.figure.Figure at 0x11d5e5d50>"
       ]
      }
     ],
     "prompt_number": 12
    },
    {
     "cell_type": "markdown",
     "metadata": {},
     "source": [
      "### Now, I want to see if this picture changes between Male and Female"
     ]
    },
    {
     "cell_type": "code",
     "collapsed": false,
     "input": [
      "# First, I want to see number of records by gender\n",
      "\n",
      "claims.gender.value_counts()"
     ],
     "language": "python",
     "metadata": {},
     "outputs": [
      {
       "metadata": {},
       "output_type": "pyout",
       "prompt_number": 13,
       "text": [
        "F    50840\n",
        "M    49160\n",
        "dtype: int64"
       ]
      }
     ],
     "prompt_number": 13
    },
    {
     "cell_type": "code",
     "collapsed": false,
     "input": [
      "# This is where slicing comes in.  I can filter rows in a Pandas dataframe and plot only the slide that I want to see\n",
      "\n",
      "claims[claims.gender == 'M'].daysSupplyCount.hist()"
     ],
     "language": "python",
     "metadata": {},
     "outputs": [
      {
       "metadata": {},
       "output_type": "pyout",
       "prompt_number": 14,
       "text": [
        "<matplotlib.axes.AxesSubplot at 0x110dbadd0>"
       ]
      },
      {
       "metadata": {},
       "output_type": "display_data",
       "png": "[encoded data removed]",
       "text": [
        "<matplotlib.figure.Figure at 0x11ea6c690>"
       ]
      }
     ],
     "prompt_number": 14
    },
    {
     "cell_type": "code",
     "collapsed": false,
     "input": [
      "claims[claims.gender == 'M'].daysSupplyCount "
     ],
     "language": "python",
     "metadata": {},
     "outputs": [
      {
       "metadata": {},
       "output_type": "pyout",
       "prompt_number": 18,
       "text": [
        "5     30\n",
        "6      6\n",
        "7     30\n",
        "10    30\n",
        "11    17\n",
        "15    30\n",
        "16    30\n",
        "18    30\n",
        "19    30\n",
        "20    30\n",
        "22    30\n",
        "24    15\n",
        "25    30\n",
        "26    30\n",
        "28    30\n",
        "...\n",
        "99970    30\n",
        "99974     5\n",
        "99977    30\n",
        "99978    30\n",
        "99981     7\n",
        "99982    30\n",
        "99983    30\n",
        "99984    30\n",
        "99985    30\n",
        "99986    30\n",
        "99987    30\n",
        "99988    30\n",
        "99993    30\n",
        "99994    30\n",
        "99996     5\n",
        "Name: daysSupplyCount, Length: 49160, dtype: int64"
       ]
      }
     ],
     "prompt_number": 18
    },
    {
     "cell_type": "code",
     "collapsed": false,
     "input": [
      "# That looks the similar.  How about seeing the distribution of Generic and non-generic\n",
      "\n",
      "claims[claims.gender == 'M'].generic.value_counts().plot(kind='bar')"
     ],
     "language": "python",
     "metadata": {},
     "outputs": [
      {
       "metadata": {},
       "output_type": "pyout",
       "prompt_number": 19,
       "text": [
        "<matplotlib.axes.AxesSubplot at 0x115575710>"
       ]
      },
      {
       "metadata": {},
       "output_type": "display_data",
       "png": "[encoded data removed]",
       "text": [
        "<matplotlib.figure.Figure at 0x115575250>"
       ]
      }
     ],
     "prompt_number": 19
    },
    {
     "cell_type": "code",
     "collapsed": false,
     "input": [
      "# This is OK, but I don't want to keep changing the gender everytime I need to see the distribution of different groups.\n",
      "# This is where groupby comes in\n",
      "\n",
      "gender_group = claims.groupby(claims.gender)\n",
      "generic_counts = gender_group.generic.value_counts()\n",
      "generic_counts"
     ],
     "language": "python",
     "metadata": {},
     "outputs": [
      {
       "metadata": {},
       "output_type": "pyout",
       "prompt_number": 20,
       "text": [
        "gender   \n",
        "F       Y    36680\n",
        "        N    13240\n",
        "        O      880\n",
        "        M       40\n",
        "M       Y    34880\n",
        "        N    13120\n",
        "        O     1120\n",
        "        M       40\n",
        "dtype: int64"
       ]
      }
     ],
     "prompt_number": 20
    },
    {
     "cell_type": "code",
     "collapsed": false,
     "input": [
      "# This is nice, but I would like to see in a pivot table\n",
      "generic_counts.unstack()"
     ],
     "language": "python",
     "metadata": {},
     "outputs": [
      {
       "html": [
        "<div style=\"max-height:1000px;max-width:1500px;overflow:auto;\">\n",
        "<table border=\"1\" class=\"dataframe\">\n",
        "  <thead>\n",
        "    <tr style=\"text-align: right;\">\n",
        "      <th></th>\n",
        "      <th>Y</th>\n",
        "      <th>N</th>\n",
        "      <th>O</th>\n",
        "      <th>M</th>\n",
        "    </tr>\n",
        "    <tr>\n",
        "      <th>gender</th>\n",
        "      <th></th>\n",
        "      <th></th>\n",
        "      <th></th>\n",
        "      <th></th>\n",
        "    </tr>\n",
        "  </thead>\n",
        "  <tbody>\n",
        "    <tr>\n",
        "      <th>F</th>\n",
        "      <td> 36680</td>\n",
        "      <td> 13240</td>\n",
        "      <td>  880</td>\n",
        "      <td> 40</td>\n",
        "    </tr>\n",
        "    <tr>\n",
        "      <th>M</th>\n",
        "      <td> 34880</td>\n",
        "      <td> 13120</td>\n",
        "      <td> 1120</td>\n",
        "      <td> 40</td>\n",
        "    </tr>\n",
        "  </tbody>\n",
        "</table>\n",
        "<p>2 rows \u00d7 4 columns</p>\n",
        "</div>"
       ],
       "metadata": {},
       "output_type": "pyout",
       "prompt_number": 21,
       "text": [
        "            Y      N     O   M\n",
        "gender                        \n",
        "F       36680  13240   880  40\n",
        "M       34880  13120  1120  40\n",
        "\n",
        "[2 rows x 4 columns]"
       ]
      }
     ],
     "prompt_number": 21
    },
    {
     "cell_type": "code",
     "collapsed": false,
     "input": [
      "generic_counts.plot(kind='bar')"
     ],
     "language": "python",
     "metadata": {},
     "outputs": [
      {
       "metadata": {},
       "output_type": "pyout",
       "prompt_number": 22,
       "text": [
        "<matplotlib.axes.AxesSubplot at 0x1113aa290>"
       ]
      },
      {
       "metadata": {},
       "output_type": "display_data",
       "png": "[encoded data removed]",
       "text": [
        "<matplotlib.figure.Figure at 0x12033a350>"
       ]
      }
     ],
     "prompt_number": 22
    },
    {
     "cell_type": "code",
     "collapsed": false,
     "input": [
      "generic_counts.unstack().plot(kind='bar')"
     ],
     "language": "python",
     "metadata": {},
     "outputs": [
      {
       "metadata": {},
       "output_type": "pyout",
       "prompt_number": 23,
       "text": [
        "<matplotlib.axes.AxesSubplot at 0x11f84a050>"
       ]
      },
      {
       "metadata": {},
       "output_type": "display_data",
       "png": "[encoded data removed]",
       "text": [
        "<matplotlib.figure.Figure at 0x112d947d0>"
       ]
      }
     ],
     "prompt_number": 23
    },
    {
     "cell_type": "markdown",
     "metadata": {},
     "source": [
      "## These plots are nice, but I don't like the default color schemes."
     ]
    },
    {
     "cell_type": "markdown",
     "metadata": {},
     "source": [
      "\n",
      "### Option 1: Matplotlib has inbuilt styles. \"fivethirtyeight\" and \"ggplot\" are popular styles. Let's try them"
     ]
    },
    {
     "cell_type": "code",
     "collapsed": false,
     "input": [
      "plt.style.use('fivethirtyeight')"
     ],
     "language": "python",
     "metadata": {},
     "outputs": [
      {
       "ename": "AttributeError",
       "evalue": "'module' object has no attribute 'style'",
       "output_type": "pyerr",
       "traceback": [
        "\u001b[0;31m---------------------------------------------------------------------------\u001b[0m\n\u001b[0;31mAttributeError\u001b[0m                            Traceback (most recent call last)",
        "\u001b[0;32m<ipython-input-24-b7fd143d6b43>\u001b[0m in \u001b[0;36m<module>\u001b[0;34m()\u001b[0m\n\u001b[0;32m----> 1\u001b[0;31m \u001b[0mplt\u001b[0m\u001b[0;34m.\u001b[0m\u001b[0mstyle\u001b[0m\u001b[0;34m.\u001b[0m\u001b[0muse\u001b[0m\u001b[0;34m(\u001b[0m\u001b[0;34m'fivethirtyeight'\u001b[0m\u001b[0;34m)\u001b[0m\u001b[0;34m\u001b[0m\u001b[0m\n\u001b[0m",
        "\u001b[0;31mAttributeError\u001b[0m: 'module' object has no attribute 'style'"
       ]
      }
     ],
     "prompt_number": 24
    },
    {
     "cell_type": "code",
     "collapsed": false,
     "input": [
      "generic_counts.unstack().plot(kind='bar')"
     ],
     "language": "python",
     "metadata": {},
     "outputs": []
    },
    {
     "cell_type": "code",
     "collapsed": false,
     "input": [
      "plt.style.use('ggplot')"
     ],
     "language": "python",
     "metadata": {},
     "outputs": []
    },
    {
     "cell_type": "code",
     "collapsed": false,
     "input": [
      "generic_counts.unstack().plot(kind='bar')"
     ],
     "language": "python",
     "metadata": {},
     "outputs": []
    },
    {
     "cell_type": "markdown",
     "metadata": {},
     "source": [
      "### Option 2: Import seaborn library.  It has great default styles and also has additional plotting functions"
     ]
    },
    {
     "cell_type": "code",
     "collapsed": false,
     "input": [
      "# Seaborn is a new plotting library that builds on top of MatPlotLib, before we can use it, we need to install it\n",
      "# You don't need to do this step if you already have seaborn installed.\n",
      "# Do the following.  You can run them right from the IPython Notebook\n",
      "!pip install seaborn\n",
      "\n",
      "# If this command failed, you need to install pip by going to command prompt and running -\n",
      "# conda install pip"
     ],
     "language": "python",
     "metadata": {},
     "outputs": []
    },
    {
     "cell_type": "code",
     "collapsed": false,
     "input": [
      "import seaborn as sns"
     ],
     "language": "python",
     "metadata": {},
     "outputs": []
    },
    {
     "cell_type": "code",
     "collapsed": false,
     "input": [
      "generic_counts.unstack().plot(kind='bar')"
     ],
     "language": "python",
     "metadata": {},
     "outputs": []
    },
    {
     "cell_type": "code",
     "collapsed": false,
     "input": [
      "sns.FacetGrid(claims, row='gender')"
     ],
     "language": "python",
     "metadata": {},
     "outputs": []
    },
    {
     "cell_type": "code",
     "collapsed": false,
     "input": [
      "sns.FacetGrid(claims, row='gender', col='generic')"
     ],
     "language": "python",
     "metadata": {},
     "outputs": []
    },
    {
     "cell_type": "code",
     "collapsed": false,
     "input": [
      "sns.FacetGrid(claims, row='gender', col='generic')"
     ],
     "language": "python",
     "metadata": {},
     "outputs": []
    },
    {
     "cell_type": "code",
     "collapsed": false,
     "input": [
      "daysSupplyCount"
     ],
     "language": "python",
     "metadata": {},
     "outputs": []
    },
    {
     "cell_type": "code",
     "collapsed": false,
     "input": [],
     "language": "python",
     "metadata": {},
     "outputs": []
    }
   ],
   "metadata": {}
  }
 ]
}